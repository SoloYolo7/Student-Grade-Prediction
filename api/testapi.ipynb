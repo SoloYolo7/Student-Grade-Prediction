{
 "cells": [
  {
   "cell_type": "code",
   "execution_count": 1,
   "metadata": {},
   "outputs": [],
   "source": [
    "import requests\n",
    "import json\n",
    "import mlflow\n",
    "import pandas as pd\n",
    "from sklearn.metrics import (\n",
    "    accuracy_score,\n",
    "    precision_score,\n",
    "    recall_score,\n",
    "    f1_score,\n",
    "    roc_auc_score,\n",
    "    confusion_matrix,\n",
    "    balanced_accuracy_score\n",
    ")\n",
    "mlflow.set_tracking_uri(\"http://84.201.144.227:8000\")"
   ]
  },
  {
   "cell_type": "code",
   "execution_count": 6,
   "metadata": {},
   "outputs": [],
   "source": [
    "api_url = \"http://127.0.0.1:8000\""
   ]
  },
  {
   "cell_type": "code",
   "execution_count": null,
   "metadata": {},
   "outputs": [],
   "source": [
    "result = requests.get(\"http://127.0.0.1:8000/\")\n",
    "result"
   ]
  },
  {
   "cell_type": "code",
   "execution_count": null,
   "metadata": {},
   "outputs": [],
   "source": [
    "result.json()"
   ]
  },
  {
   "cell_type": "code",
   "execution_count": null,
   "metadata": {},
   "outputs": [],
   "source": [
    "result2 = requests.get(\"http://127.0.0.1:8000/test\")\n",
    "result2"
   ]
  },
  {
   "cell_type": "code",
   "execution_count": null,
   "metadata": {},
   "outputs": [],
   "source": [
    "result2.json()"
   ]
  },
  {
   "cell_type": "code",
   "execution_count": null,
   "metadata": {},
   "outputs": [],
   "source": [
    "result3 = requests.get(\"http://127.0.0.1:8000/test2\", params={'param':5,'textparam':'hello world'})\n",
    "result3"
   ]
  },
  {
   "cell_type": "code",
   "execution_count": null,
   "metadata": {},
   "outputs": [],
   "source": [
    "result3.json()"
   ]
  },
  {
   "cell_type": "code",
   "execution_count": null,
   "metadata": {},
   "outputs": [],
   "source": [
    "post_res = requests.post(\"http://127.0.0.1:8000/test2\", params={'param':5,'textparam':'hello world'})\n",
    "post_res"
   ]
  },
  {
   "cell_type": "code",
   "execution_count": null,
   "metadata": {},
   "outputs": [],
   "source": [
    "post_res.json()"
   ]
  },
  {
   "cell_type": "code",
   "execution_count": null,
   "metadata": {},
   "outputs": [],
   "source": [
    "predict_res = requests.post(\"http://127.0.0.1:8002/predict\")\n"
   ]
  },
  {
   "cell_type": "code",
   "execution_count": null,
   "metadata": {},
   "outputs": [],
   "source": [
    "pred = pd.read_json(predict_res.json()[\"answer\"])[0]"
   ]
  },
  {
   "cell_type": "code",
   "execution_count": null,
   "metadata": {},
   "outputs": [],
   "source": [
    "y_test = pd.read_csv(\"../y_test.csv\")['0']"
   ]
  },
  {
   "cell_type": "code",
   "execution_count": null,
   "metadata": {},
   "outputs": [],
   "source": [
    "accuracy = accuracy_score(y_test, pred)\n",
    "print(accuracy)"
   ]
  },
  {
   "cell_type": "code",
   "execution_count": null,
   "metadata": {},
   "outputs": [],
   "source": [
    "# Научиться передовать данные на endpoint через Pydentic контролируя тип данных каждой колонки, и через бинарный файл."
   ]
  },
  {
   "cell_type": "code",
   "execution_count": 2,
   "metadata": {},
   "outputs": [
    {
     "data": {
      "text/plain": [
       "Student_Age             int64\n",
       "Sex                    object\n",
       "High_School_Type       object\n",
       "Scholarship             int64\n",
       "Additional_Work        object\n",
       "Sports_activity        object\n",
       "Transportation         object\n",
       "Weekly_Study_Hours      int64\n",
       "Attendance            float64\n",
       "Reading                object\n",
       "Notes                  object\n",
       "Listening_in_Class     object\n",
       "Project_work           object\n",
       "dtype: object"
      ]
     },
     "execution_count": 2,
     "metadata": {},
     "output_type": "execute_result"
    }
   ],
   "source": [
    "pd.read_csv('../valid_X_test.csv').dtypes"
   ]
  },
  {
   "cell_type": "code",
   "execution_count": 3,
   "metadata": {},
   "outputs": [
    {
     "data": {
      "text/plain": [
       "'[{\"Student_Age\":18,\"Sex\":\"Male\",\"High_School_Type\":\"State\",\"Scholarship\":100,\"Additional_Work\":\"No\",\"Sports_activity\":\"No\",\"Transportation\":\"Bus\",\"Weekly_Study_Hours\":0,\"Attendance\":1.0,\"Reading\":\"No\",\"Notes\":\"No\",\"Listening_in_Class\":\"No\",\"Project_work\":\"No\"},{\"Student_Age\":21,\"Sex\":\"Male\",\"High_School_Type\":\"State\",\"Scholarship\":100,\"Additional_Work\":\"No\",\"Sports_activity\":\"No\",\"Transportation\":\"Private\",\"Weekly_Study_Hours\":0,\"Attendance\":3.0,\"Reading\":\"Yes\",\"Notes\":\"No\",\"Listening_in_Class\":\"Yes\",\"Project_work\":\"Yes\"},{\"Student_Age\":18,\"Sex\":\"Female\",\"High_School_Type\":\"State\",\"Scholarship\":50,\"Additional_Work\":\"No\",\"Sports_activity\":\"No\",\"Transportation\":\"Private\",\"Weekly_Study_Hours\":0,\"Attendance\":2.0,\"Reading\":\"No\",\"Notes\":\"Yes\",\"Listening_in_Class\":\"No\",\"Project_work\":\"Yes\"},{\"Student_Age\":18,\"Sex\":\"Female\",\"High_School_Type\":\"State\",\"Scholarship\":50,\"Additional_Work\":\"Yes\",\"Sports_activity\":\"Yes\",\"Transportation\":\"Bus\",\"Weekly_Study_Hours\":2,\"Attendance\":2.0,\"Reading\":\"No\",\"Notes\":\"Yes\",\"Listening_in_Class\":\"Yes\",\"Project_work\":\"Yes\"},{\"Student_Age\":22,\"Sex\":\"Male\",\"High_School_Type\":\"State\",\"Scholarship\":50,\"Additional_Work\":\"No\",\"Sports_activity\":\"No\",\"Transportation\":\"Private\",\"Weekly_Study_Hours\":0,\"Attendance\":3.0,\"Reading\":\"Yes\",\"Notes\":\"No\",\"Listening_in_Class\":\"No\",\"Project_work\":\"No\"},{\"Student_Age\":19,\"Sex\":\"Male\",\"High_School_Type\":\"State\",\"Scholarship\":50,\"Additional_Work\":\"No\",\"Sports_activity\":\"No\",\"Transportation\":\"Bus\",\"Weekly_Study_Hours\":0,\"Attendance\":3.0,\"Reading\":\"No\",\"Notes\":\"Yes\",\"Listening_in_Class\":\"Yes\",\"Project_work\":\"Yes\"},{\"Student_Age\":26,\"Sex\":\"Male\",\"High_School_Type\":\"State\",\"Scholarship\":75,\"Additional_Work\":\"Yes\",\"Sports_activity\":\"Yes\",\"Transportation\":\"Private\",\"Weekly_Study_Hours\":12,\"Attendance\":1.0,\"Reading\":\"No\",\"Notes\":\"No\",\"Listening_in_Class\":\"Yes\",\"Project_work\":\"Yes\"},{\"Student_Age\":21,\"Sex\":\"Male\",\"High_School_Type\":\"State\",\"Scholarship\":50,\"Additional_Work\":\"No\",\"Sports_activity\":\"No\",\"Transportation\":\"Private\",\"Weekly_Study_Hours\":12,\"Attendance\":1.0,\"Reading\":\"No\",\"Notes\":\"Yes\",\"Listening_in_Class\":\"No\",\"Project_work\":\"Yes\"},{\"Student_Age\":20,\"Sex\":\"Male\",\"High_School_Type\":\"State\",\"Scholarship\":50,\"Additional_Work\":\"No\",\"Sports_activity\":\"No\",\"Transportation\":\"Private\",\"Weekly_Study_Hours\":0,\"Attendance\":1.0,\"Reading\":\"No\",\"Notes\":\"No\",\"Listening_in_Class\":\"No\",\"Project_work\":\"Yes\"},{\"Student_Age\":18,\"Sex\":\"Female\",\"High_School_Type\":\"Private\",\"Scholarship\":100,\"Additional_Work\":\"No\",\"Sports_activity\":\"Yes\",\"Transportation\":\"Private\",\"Weekly_Study_Hours\":0,\"Attendance\":2.0,\"Reading\":\"No\",\"Notes\":\"Yes\",\"Listening_in_Class\":\"Yes\",\"Project_work\":\"Yes\"},{\"Student_Age\":21,\"Sex\":\"Female\",\"High_School_Type\":\"State\",\"Scholarship\":50,\"Additional_Work\":\"Yes\",\"Sports_activity\":\"Yes\",\"Transportation\":\"Bus\",\"Weekly_Study_Hours\":0,\"Attendance\":2.0,\"Reading\":\"Yes\",\"Notes\":\"Yes\",\"Listening_in_Class\":\"Yes\",\"Project_work\":\"No\"},{\"Student_Age\":19,\"Sex\":\"Male\",\"High_School_Type\":\"Other\",\"Scholarship\":50,\"Additional_Work\":\"Yes\",\"Sports_activity\":\"Yes\",\"Transportation\":\"Private\",\"Weekly_Study_Hours\":12,\"Attendance\":3.0,\"Reading\":\"No\",\"Notes\":\"No\",\"Listening_in_Class\":\"No\",\"Project_work\":\"No\"},{\"Student_Age\":19,\"Sex\":\"Female\",\"High_School_Type\":\"Other\",\"Scholarship\":50,\"Additional_Work\":\"Yes\",\"Sports_activity\":\"Yes\",\"Transportation\":\"Private\",\"Weekly_Study_Hours\":0,\"Attendance\":3.0,\"Reading\":\"Yes\",\"Notes\":\"Yes\",\"Listening_in_Class\":\"No\",\"Project_work\":\"No\"},{\"Student_Age\":18,\"Sex\":\"Male\",\"High_School_Type\":\"Private\",\"Scholarship\":50,\"Additional_Work\":\"No\",\"Sports_activity\":\"Yes\",\"Transportation\":\"Bus\",\"Weekly_Study_Hours\":0,\"Attendance\":2.0,\"Reading\":\"No\",\"Notes\":\"Yes\",\"Listening_in_Class\":\"No\",\"Project_work\":\"Yes\"},{\"Student_Age\":18,\"Sex\":\"Male\",\"High_School_Type\":\"State\",\"Scholarship\":100,\"Additional_Work\":\"No\",\"Sports_activity\":\"Yes\",\"Transportation\":\"Bus\",\"Weekly_Study_Hours\":0,\"Attendance\":1.0,\"Reading\":\"No\",\"Notes\":\"Yes\",\"Listening_in_Class\":\"No\",\"Project_work\":\"No\"},{\"Student_Age\":18,\"Sex\":\"Male\",\"High_School_Type\":\"Private\",\"Scholarship\":50,\"Additional_Work\":\"No\",\"Sports_activity\":\"No\",\"Transportation\":\"Bus\",\"Weekly_Study_Hours\":2,\"Attendance\":3.0,\"Reading\":\"Yes\",\"Notes\":\"No\",\"Listening_in_Class\":\"Yes\",\"Project_work\":\"No\"},{\"Student_Age\":22,\"Sex\":\"Male\",\"High_School_Type\":\"Other\",\"Scholarship\":100,\"Additional_Work\":\"No\",\"Sports_activity\":\"No\",\"Transportation\":\"Private\",\"Weekly_Study_Hours\":0,\"Attendance\":3.0,\"Reading\":\"Yes\",\"Notes\":\"No\",\"Listening_in_Class\":\"No\",\"Project_work\":\"Yes\"},{\"Student_Age\":21,\"Sex\":\"Female\",\"High_School_Type\":\"Other\",\"Scholarship\":50,\"Additional_Work\":\"No\",\"Sports_activity\":\"No\",\"Transportation\":\"Private\",\"Weekly_Study_Hours\":0,\"Attendance\":1.0,\"Reading\":\"No\",\"Notes\":\"Yes\",\"Listening_in_Class\":\"No\",\"Project_work\":\"Yes\"},{\"Student_Age\":18,\"Sex\":\"Male\",\"High_School_Type\":\"State\",\"Scholarship\":50,\"Additional_Work\":\"No\",\"Sports_activity\":\"No\",\"Transportation\":\"Private\",\"Weekly_Study_Hours\":0,\"Attendance\":3.0,\"Reading\":\"Yes\",\"Notes\":\"No\",\"Listening_in_Class\":\"No\",\"Project_work\":\"No\"},{\"Student_Age\":21,\"Sex\":\"Male\",\"High_School_Type\":\"State\",\"Scholarship\":75,\"Additional_Work\":\"No\",\"Sports_activity\":\"No\",\"Transportation\":\"Private\",\"Weekly_Study_Hours\":0,\"Attendance\":1.0,\"Reading\":\"No\",\"Notes\":\"No\",\"Listening_in_Class\":\"Yes\",\"Project_work\":\"Yes\"},{\"Student_Age\":18,\"Sex\":\"Female\",\"High_School_Type\":\"State\",\"Scholarship\":100,\"Additional_Work\":\"No\",\"Sports_activity\":\"Yes\",\"Transportation\":\"Private\",\"Weekly_Study_Hours\":0,\"Attendance\":3.0,\"Reading\":\"Yes\",\"Notes\":\"No\",\"Listening_in_Class\":\"No\",\"Project_work\":\"No\"},{\"Student_Age\":18,\"Sex\":\"Male\",\"High_School_Type\":\"Other\",\"Scholarship\":100,\"Additional_Work\":\"Yes\",\"Sports_activity\":\"Yes\",\"Transportation\":\"Bus\",\"Weekly_Study_Hours\":0,\"Attendance\":2.0,\"Reading\":\"No\",\"Notes\":\"No\",\"Listening_in_Class\":\"No\",\"Project_work\":\"Yes\"},{\"Student_Age\":20,\"Sex\":\"Male\",\"High_School_Type\":\"State\",\"Scholarship\":50,\"Additional_Work\":\"Yes\",\"Sports_activity\":\"Yes\",\"Transportation\":\"Bus\",\"Weekly_Study_Hours\":2,\"Attendance\":2.0,\"Reading\":\"No\",\"Notes\":\"No\",\"Listening_in_Class\":\"Yes\",\"Project_work\":\"Yes\"},{\"Student_Age\":21,\"Sex\":\"Male\",\"High_School_Type\":\"Other\",\"Scholarship\":50,\"Additional_Work\":\"Yes\",\"Sports_activity\":\"No\",\"Transportation\":\"Private\",\"Weekly_Study_Hours\":0,\"Attendance\":3.0,\"Reading\":\"Yes\",\"Notes\":\"Yes\",\"Listening_in_Class\":\"No\",\"Project_work\":\"No\"},{\"Student_Age\":19,\"Sex\":\"Female\",\"High_School_Type\":\"State\",\"Scholarship\":50,\"Additional_Work\":\"No\",\"Sports_activity\":\"No\",\"Transportation\":\"Private\",\"Weekly_Study_Hours\":12,\"Attendance\":2.0,\"Reading\":\"Yes\",\"Notes\":\"Yes\",\"Listening_in_Class\":\"Yes\",\"Project_work\":\"No\"},{\"Student_Age\":18,\"Sex\":\"Male\",\"High_School_Type\":\"State\",\"Scholarship\":75,\"Additional_Work\":\"Yes\",\"Sports_activity\":\"No\",\"Transportation\":\"Private\",\"Weekly_Study_Hours\":0,\"Attendance\":3.0,\"Reading\":\"No\",\"Notes\":\"No\",\"Listening_in_Class\":\"Yes\",\"Project_work\":\"No\"},{\"Student_Age\":18,\"Sex\":\"Female\",\"High_School_Type\":\"State\",\"Scholarship\":75,\"Additional_Work\":\"Yes\",\"Sports_activity\":\"Yes\",\"Transportation\":\"Private\",\"Weekly_Study_Hours\":0,\"Attendance\":3.0,\"Reading\":\"No\",\"Notes\":\"Yes\",\"Listening_in_Class\":\"Yes\",\"Project_work\":\"No\"},{\"Student_Age\":18,\"Sex\":\"Female\",\"High_School_Type\":\"State\",\"Scholarship\":75,\"Additional_Work\":\"No\",\"Sports_activity\":\"Yes\",\"Transportation\":\"Bus\",\"Weekly_Study_Hours\":0,\"Attendance\":1.0,\"Reading\":\"No\",\"Notes\":\"No\",\"Listening_in_Class\":\"No\",\"Project_work\":\"Yes\"},{\"Student_Age\":19,\"Sex\":\"Male\",\"High_School_Type\":\"Other\",\"Scholarship\":75,\"Additional_Work\":\"No\",\"Sports_activity\":\"No\",\"Transportation\":\"Private\",\"Weekly_Study_Hours\":0,\"Attendance\":1.0,\"Reading\":\"No\",\"Notes\":\"No\",\"Listening_in_Class\":\"Yes\",\"Project_work\":\"Yes\"}]'"
      ]
     },
     "execution_count": 3,
     "metadata": {},
     "output_type": "execute_result"
    }
   ],
   "source": [
    "pd.read_csv('../valid_X_test.csv').to_json(orient='records')"
   ]
  },
  {
   "cell_type": "code",
   "execution_count": 4,
   "metadata": {},
   "outputs": [],
   "source": [
    "df2 = pd.read_csv('../valid_X_test.csv').to_dict(orient='records')"
   ]
  },
  {
   "cell_type": "code",
   "execution_count": null,
   "metadata": {},
   "outputs": [
    {
     "name": "stdout",
     "output_type": "stream",
     "text": [
      "Статус-код: 200\n",
      "Ответ: {'predictions': [1, 6, 7, 7, 7, 7, 6, 7, 6, 6, 7, 7, 7, 7, 1, 7, 6, 7, 7, 6, 6, 1, 7, 7, 7, 1, 7, 0, 6]}\n"
     ]
    }
   ],
   "source": [
    "response_single = requests.post(\n",
    "    f\"{api_url}/predict-single\",\n",
    "    headers={\"Content-Type\": \"application/json\"},\n",
    "    json={\"features\": df2}\n",
    ")\n",
    "\n",
    "print(f\"Статус-код: {response_single.status_code}\")\n",
    "if response_single.status_code == 200:\n",
    "    print(f\"Ответ: {response_single.json()}\")\n",
    "else:\n",
    "    print(f\"Ошибка: {response_single.text}\")\n",
    "\n",
    "predict_res2 = response_single.json()"
   ]
  },
  {
   "cell_type": "code",
   "execution_count": 19,
   "metadata": {},
   "outputs": [
    {
     "name": "stdout",
     "output_type": "stream",
     "text": [
      "[1, 6, 7, 7, 7, 7, 6, 7, 6, 6, 7, 7, 7, 7, 1, 7, 6, 7, 7, 6, 6, 1, 7, 7, 7, 1, 7, 0, 6]\n"
     ]
    }
   ],
   "source": [
    "predict_res2 =  response_single.json()[\"predictions\"]\n",
    "print(predict_res2)"
   ]
  },
  {
   "cell_type": "code",
   "execution_count": null,
   "metadata": {},
   "outputs": [],
   "source": [
    "path_to_csv = '../valid_X_test.csv' \n",
    "\n",
    "with open(path_to_csv, 'rb') as f:\n",
    "    response_batch = requests.post(\n",
    "        f\"{api_url}/predict-batch\",\n",
    "        files={'file': (path_to_csv, f, 'text/csv')} \n",
    "    )\n",
    "\n",
    "print(f\"Статус-код: {response_batch.status_code}\")\n",
    "if response_batch.status_code == 200:\n",
    "    predictions = response_batch.json()['predictions']\n",
    "    print(f\"Получено {len(predictions)} предсказаний.\")\n",
    "    print(f\"Пример первых 10 предсказаний: {predictions[:10]}\")\n",
    "else:\n",
    "    print(f\"Ошибка: {response_batch.text}\")"
   ]
  }
 ],
 "metadata": {
  "kernelspec": {
   "display_name": ".venv",
   "language": "python",
   "name": "python3"
  },
  "language_info": {
   "codemirror_mode": {
    "name": "ipython",
    "version": 3
   },
   "file_extension": ".py",
   "mimetype": "text/x-python",
   "name": "python",
   "nbconvert_exporter": "python",
   "pygments_lexer": "ipython3",
   "version": "3.12.2"
  }
 },
 "nbformat": 4,
 "nbformat_minor": 2
}
